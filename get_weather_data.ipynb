{
 "cells": [
  {
   "cell_type": "code",
   "execution_count": 1,
   "metadata": {},
   "outputs": [],
   "source": [
    "import pandas as pd\n",
    "import numpy as np\n",
    "import seaborn as sns\n",
    "import matplotlib.pyplot as plt\n",
    "\n",
    "from IPython.display import display\n",
    "\n",
    "import requests"
   ]
  },
  {
   "cell_type": "code",
   "execution_count": 2,
   "metadata": {},
   "outputs": [],
   "source": [
    "weather_groups = {'Clear': 'dry',\n",
    "                  'Partially cloudy': 'dry',\n",
    "                  'Rain, Partially cloudy': 'humid',\n",
    "                  'Rain': 'wet',\n",
    "                  'Rain, Overcast': 'wet',\n",
    "                  'Overcast': 'humid'}"
   ]
  },
  {
   "cell_type": "code",
   "execution_count": 3,
   "metadata": {},
   "outputs": [
    {
     "data": {
      "text/plain": [
       "'\\nurl = \"https://visual-crossing-weather.p.rapidapi.com/history\"\\n\\n#querystring = {\"startDateTime\":\"2020-01-01T12:00:00\",\"aggregateHours\":\"24\",\"location\":\"Ljubljana,Slovenia\",\"endDateTime\":\"2020-12-31T20:00:00\",\"unitGroup\":\"metric\",\"contentType\":\"csv\",\"shortColumnNames\":\"0\"}\\nquerystring = {\"startDateTime\":\"2019-01-01T12:00:00\",\"aggregateHours\":\"24\",\"location\":\"Ljubljana,Slovenia\",\"endDateTime\":\"2019-12-31T20:00:00\",\"unitGroup\":\"metric\",\"contentType\":\"csv\",\"shortColumnNames\":\"0\"}\\n\\nheaders = {\\n    \\'x-rapidapi-key\\': \"\",\\n    \\'x-rapidapi-host\\': \"visual-crossing-weather.p.rapidapi.com\"\\n    }\\n\\nresponse = requests.request(\"GET\", url, headers=headers, params=querystring)\\n'"
      ]
     },
     "execution_count": 3,
     "metadata": {},
     "output_type": "execute_result"
    }
   ],
   "source": [
    "\"\"\"\n",
    "url = \"https://visual-crossing-weather.p.rapidapi.com/history\"\n",
    "\n",
    "#querystring = {\"startDateTime\":\"2020-01-01T12:00:00\",\"aggregateHours\":\"24\",\"location\":\"Ljubljana,Slovenia\",\"endDateTime\":\"2020-12-31T20:00:00\",\"unitGroup\":\"metric\",\"contentType\":\"csv\",\"shortColumnNames\":\"0\"}\n",
    "querystring = {\"startDateTime\":\"2019-01-01T12:00:00\",\"aggregateHours\":\"24\",\"location\":\"Ljubljana,Slovenia\",\"endDateTime\":\"2019-12-31T20:00:00\",\"unitGroup\":\"metric\",\"contentType\":\"csv\",\"shortColumnNames\":\"0\"}\n",
    "\n",
    "headers = {\n",
    "    'x-rapidapi-key': \"\",\n",
    "    'x-rapidapi-host': \"visual-crossing-weather.p.rapidapi.com\"\n",
    "    }\n",
    "\n",
    "response = requests.request(\"GET\", url, headers=headers, params=querystring)\n",
    "\"\"\""
   ]
  },
  {
   "cell_type": "code",
   "execution_count": 4,
   "metadata": {},
   "outputs": [
    {
     "data": {
      "text/plain": [
       "\"\\nf = open('data\\\\weather_raw_2019.csv', 'w')\\nf.write(str(response.text))\\nf.close()\\n\""
      ]
     },
     "execution_count": 4,
     "metadata": {},
     "output_type": "execute_result"
    }
   ],
   "source": [
    "\"\"\"\n",
    "f = open('data\\\\weather_raw_2019.csv', 'w')\n",
    "f.write(str(response.text))\n",
    "f.close()\n",
    "\"\"\""
   ]
  },
  {
   "cell_type": "code",
   "execution_count": 5,
   "metadata": {},
   "outputs": [],
   "source": [
    "df = pd.read_csv('data\\\\weather_raw.csv')\n",
    "df2 = pd.read_csv('data\\\\weather_raw_2019.csv')"
   ]
  },
  {
   "cell_type": "code",
   "execution_count": 6,
   "metadata": {},
   "outputs": [],
   "source": [
    "df = pd.concat((df, df2), ignore_index=True)"
   ]
  },
  {
   "cell_type": "code",
   "execution_count": 7,
   "metadata": {},
   "outputs": [],
   "source": [
    "df=df[['Date time', 'Temperature', 'Conditions']].copy()\n",
    "df['Date time'] = df['Date time'].map(lambda x: x.split('/')[2]+'-'+x.split('/')[0]+'-'+x.split('/')[1])"
   ]
  },
  {
   "cell_type": "code",
   "execution_count": 8,
   "metadata": {},
   "outputs": [],
   "source": [
    "df['weather'] = df.apply(lambda x: 'normal' if (weather_groups[x['Conditions']]=='dry' and x['Temperature'] >=5) or (weather_groups[x['Conditions']]=='humid' and x['Temperature'] >=10) else 'adverse', axis=1)    "
   ]
  },
  {
   "cell_type": "code",
   "execution_count": 9,
   "metadata": {},
   "outputs": [
    {
     "data": {
      "text/html": [
       "<div>\n",
       "<style scoped>\n",
       "    .dataframe tbody tr th:only-of-type {\n",
       "        vertical-align: middle;\n",
       "    }\n",
       "\n",
       "    .dataframe tbody tr th {\n",
       "        vertical-align: top;\n",
       "    }\n",
       "\n",
       "    .dataframe thead th {\n",
       "        text-align: right;\n",
       "    }\n",
       "</style>\n",
       "<table border=\"1\" class=\"dataframe\">\n",
       "  <thead>\n",
       "    <tr style=\"text-align: right;\">\n",
       "      <th></th>\n",
       "      <th>Date time</th>\n",
       "      <th>Temperature</th>\n",
       "      <th>Conditions</th>\n",
       "      <th>weather</th>\n",
       "    </tr>\n",
       "  </thead>\n",
       "  <tbody>\n",
       "    <tr>\n",
       "      <th>643</th>\n",
       "      <td>2019-10-05</td>\n",
       "      <td>12.4</td>\n",
       "      <td>Rain</td>\n",
       "      <td>adverse</td>\n",
       "    </tr>\n",
       "  </tbody>\n",
       "</table>\n",
       "</div>"
      ],
      "text/plain": [
       "      Date time  Temperature Conditions  weather\n",
       "643  2019-10-05         12.4       Rain  adverse"
      ]
     },
     "execution_count": 9,
     "metadata": {},
     "output_type": "execute_result"
    }
   ],
   "source": [
    "df[df['Date time'] == '2019-10-05']"
   ]
  },
  {
   "cell_type": "code",
   "execution_count": 10,
   "metadata": {},
   "outputs": [],
   "source": [
    "df = df[['Date time', 'weather']]\n",
    "df.columns = ['date', 'weather']"
   ]
  },
  {
   "cell_type": "code",
   "execution_count": 11,
   "metadata": {},
   "outputs": [
    {
     "data": {
      "text/plain": [
       "0      2020-01-01\n",
       "1      2020-01-02\n",
       "2      2020-01-03\n",
       "3      2020-01-04\n",
       "4      2020-01-05\n",
       "5      2020-01-06\n",
       "6      2020-01-07\n",
       "7      2020-01-08\n",
       "8      2020-01-09\n",
       "9      2020-01-10\n",
       "10     2020-01-11\n",
       "11     2020-01-12\n",
       "12     2020-01-13\n",
       "13     2020-01-14\n",
       "14     2020-01-15\n",
       "15     2020-01-16\n",
       "16     2020-01-17\n",
       "17     2020-01-18\n",
       "18     2020-01-19\n",
       "19     2020-01-20\n",
       "20     2020-01-21\n",
       "21     2020-01-22\n",
       "22     2020-01-23\n",
       "23     2020-01-24\n",
       "24     2020-01-25\n",
       "25     2020-01-26\n",
       "26     2020-01-27\n",
       "27     2020-01-28\n",
       "28     2020-01-29\n",
       "29     2020-01-30\n",
       "          ...    \n",
       "701    2019-12-02\n",
       "702    2019-12-03\n",
       "703    2019-12-04\n",
       "704    2019-12-05\n",
       "705    2019-12-06\n",
       "706    2019-12-07\n",
       "707    2019-12-08\n",
       "708    2019-12-09\n",
       "709    2019-12-10\n",
       "710    2019-12-11\n",
       "711    2019-12-12\n",
       "712    2019-12-13\n",
       "713    2019-12-14\n",
       "714    2019-12-15\n",
       "715    2019-12-16\n",
       "716    2019-12-17\n",
       "717    2019-12-18\n",
       "718    2019-12-19\n",
       "719    2019-12-20\n",
       "720    2019-12-21\n",
       "721    2019-12-22\n",
       "722    2019-12-23\n",
       "723    2019-12-24\n",
       "724    2019-12-25\n",
       "725    2019-12-26\n",
       "726    2019-12-27\n",
       "727    2019-12-28\n",
       "728    2019-12-29\n",
       "729    2019-12-30\n",
       "730    2019-12-31\n",
       "Name: date, Length: 731, dtype: object"
      ]
     },
     "execution_count": 11,
     "metadata": {},
     "output_type": "execute_result"
    }
   ],
   "source": [
    "df.date"
   ]
  },
  {
   "cell_type": "code",
   "execution_count": 13,
   "metadata": {},
   "outputs": [],
   "source": [
    "df.to_csv('data\\\\weather.csv', index=False)"
   ]
  },
  {
   "cell_type": "code",
   "execution_count": 12,
   "metadata": {},
   "outputs": [
    {
     "data": {
      "text/html": [
       "<div>\n",
       "<style scoped>\n",
       "    .dataframe tbody tr th:only-of-type {\n",
       "        vertical-align: middle;\n",
       "    }\n",
       "\n",
       "    .dataframe tbody tr th {\n",
       "        vertical-align: top;\n",
       "    }\n",
       "\n",
       "    .dataframe thead th {\n",
       "        text-align: right;\n",
       "    }\n",
       "</style>\n",
       "<table border=\"1\" class=\"dataframe\">\n",
       "  <thead>\n",
       "    <tr style=\"text-align: right;\">\n",
       "      <th></th>\n",
       "      <th>date</th>\n",
       "      <th>weather</th>\n",
       "    </tr>\n",
       "  </thead>\n",
       "  <tbody>\n",
       "    <tr>\n",
       "      <th>278</th>\n",
       "      <td>2020-10-05</td>\n",
       "      <td>good</td>\n",
       "    </tr>\n",
       "  </tbody>\n",
       "</table>\n",
       "</div>"
      ],
      "text/plain": [
       "           date weather\n",
       "278  2020-10-05    good"
      ]
     },
     "execution_count": 12,
     "metadata": {},
     "output_type": "execute_result"
    }
   ],
   "source": [
    "df[df['date'] == '2020-10-05']"
   ]
  },
  {
   "cell_type": "code",
   "execution_count": null,
   "metadata": {},
   "outputs": [],
   "source": []
  },
  {
   "cell_type": "code",
   "execution_count": null,
   "metadata": {},
   "outputs": [],
   "source": []
  }
 ],
 "metadata": {
  "kernelspec": {
   "display_name": "Python 3.7.3 64-bit ('base': conda)",
   "language": "python",
   "name": "python37364bitbasecondacd385dda59854559b44e3f82ede14f15"
  },
  "language_info": {
   "codemirror_mode": {
    "name": "ipython",
    "version": 3
   },
   "file_extension": ".py",
   "mimetype": "text/x-python",
   "name": "python",
   "nbconvert_exporter": "python",
   "pygments_lexer": "ipython3",
   "version": "3.7.3"
  }
 },
 "nbformat": 4,
 "nbformat_minor": 2
}
