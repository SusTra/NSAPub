{
 "cells": [
  {
   "cell_type": "code",
   "execution_count": 1,
   "metadata": {},
   "outputs": [],
   "source": [
    "import pandas as pd\n",
    "import numpy as np\n",
    "import seaborn as sns\n",
    "import matplotlib.pyplot as plt\n",
    "\n",
    "import get_files_counters\n",
    "\n",
    "from os import listdir\n",
    "from os.path import splitext\n",
    "\n",
    "from IPython.display import display"
   ]
  },
  {
   "cell_type": "markdown",
   "metadata": {},
   "source": [
    "# Settings"
   ]
  },
  {
   "cell_type": "code",
   "execution_count": 2,
   "metadata": {},
   "outputs": [],
   "source": [
    "folder = \"data\\\\stevci\\\\\"\n",
    "folder_ring = \"data\\\\stevci_obvoznica\\\\\"\n",
    "use_external_weather = True"
   ]
  },
  {
   "cell_type": "markdown",
   "metadata": {},
   "source": [
    "# File import"
   ]
  },
  {
   "cell_type": "code",
   "execution_count": 3,
   "metadata": {},
   "outputs": [],
   "source": [
    "location_id = get_files_counters.get_ids(folder)\n",
    "id_location = {location_id[x]:x for x in location_id}"
   ]
  },
  {
   "cell_type": "code",
   "execution_count": 4,
   "metadata": {},
   "outputs": [],
   "source": [
    "columns = [\"STM\", \n",
    "           \"date\" ,\n",
    "           \"time\", \n",
    "           \"motorbike1\", \n",
    "           \"car1\", \n",
    "           \"bus1\", \n",
    "           \"LT1\", \n",
    "           \"ST1\", \n",
    "           \"TT1\", \n",
    "           \"TP1\", \n",
    "           \"TPP1\", \n",
    "           \"count1\", \n",
    "           \"motorbike2\", \n",
    "           \"car2\", \n",
    "           \"bus2\", \n",
    "           \"LT2\", \n",
    "           \"ST2\", \n",
    "           \"TT2\", \n",
    "           \"TP2\", \n",
    "           \"TPP2\", \n",
    "           \"count2\", \n",
    "           \"count\"]"
   ]
  },
  {
   "cell_type": "code",
   "execution_count": 5,
   "metadata": {},
   "outputs": [
    {
     "data": {
      "text/plain": [
       "'\\nfile = \"STEP_MOL_1001-156_2020_09_01__00_00-2020_09_30__23_50.S_U\"\\ndf = pd.read_csv(folder+file, \\n                 encoding=\"cp1250\", \\n                 skiprows=12,\\n                 header=None, \\n                 sep=\\'\\\\s{3,}\\', \\n                 engine=\\'python\\', \\n                 usecols=np.arange(len(columns)))\\n'"
      ]
     },
     "execution_count": 5,
     "metadata": {},
     "output_type": "execute_result"
    }
   ],
   "source": [
    "\"\"\"\n",
    "file = \"STEP_MOL_1001-156_2020_09_01__00_00-2020_09_30__23_50.S_U\"\n",
    "df = pd.read_csv(folder+file, \n",
    "                 encoding=\"cp1250\", \n",
    "                 skiprows=12,\n",
    "                 header=None, \n",
    "                 sep='\\s{3,}', \n",
    "                 engine='python', \n",
    "                 usecols=np.arange(len(columns)))\n",
    "\"\"\""
   ]
  },
  {
   "cell_type": "markdown",
   "metadata": {},
   "source": [
    "# Parsing"
   ]
  },
  {
   "cell_type": "markdown",
   "metadata": {},
   "source": [
    "## From CSV files"
   ]
  },
  {
   "cell_type": "code",
   "execution_count": 6,
   "metadata": {},
   "outputs": [],
   "source": [
    "i = location_id[\"Dunajska zel. podvoz > Center\"]\n",
    "del location_id[\"Dunajska zel. podvoz > Center\"]\n",
    "location_id[\"Dunajska zel. podvoz <obe smeri> Center\"] = i"
   ]
  },
  {
   "cell_type": "code",
   "execution_count": 7,
   "metadata": {},
   "outputs": [],
   "source": [
    "for i1,name in enumerate(location_id):\n",
    "    files = get_files_counters.get_file_names(name, location_id, folder)      \n",
    "    \n",
    "    for i2,f in enumerate(files):\n",
    "        df22 = pd.read_csv(folder+f, encoding=\"cp1250\", skiprows=12,sep='\\s{1,}', header=None, engine='python', usecols=np.arange(len(columns)))\n",
    "        #df = pd.read_csv(folder+f, encoding=\"cp1250\", skiprows=11,sep='\\s{1,}', engine='python')\n",
    "        if len(df22.iloc[0,1])<8: # pri letališki je oznaka 1063 Let in je treba en stolpec izpustiti\n",
    "            df22 = pd.read_csv(folder+f, encoding=\"cp1250\", skiprows=12,sep='\\s{1,}', header=None, engine='python', usecols=np.arange(len(columns)+1))\n",
    "            df22 = df22.drop(columns=df22.columns[1])    \n",
    "        \n",
    "        df22 = df22.dropna()\n",
    "        df22.columns = columns\n",
    "        if \"obe smeri\" not in name: \n",
    "            df22 = df22[['date', 'time', 'count']]\n",
    "        else:\n",
    "            df22 = df22[['date', 'time', 'count1', 'count2']]\n",
    "            \n",
    "        if i2 == 0:\n",
    "            df21 = df22\n",
    "        else:\n",
    "            df21 = pd.concat([df21, df22], ignore_index=True, sort=False)\n",
    "   \n",
    "    if \"obe smeri\" not in name:    \n",
    "        #df21.to_csv(folder+\"obdelano\\\\\"+name.replace(\">\",\"\").replace(\"<\",\"\")+\".csv\")\n",
    "        \n",
    "        df21['location'] = name\n",
    "        df21['counter_id'] = location_id[name]\n",
    "        df21['direction'] = 0\n",
    "        if i1 == 0:\n",
    "            df = df21\n",
    "        else:\n",
    "            df = pd.concat([df, df21], ignore_index=True, sort=False)\n",
    "    else:\n",
    "        name_smer1 = name.replace(\"<obe smeri>\",\"SMER 0\")\n",
    "        name_smer2 = name.replace(\"<obe smeri>\",\"SMER 1\")\n",
    "            \n",
    "        df_smer1 = df21[['date', 'time', 'count1']].copy()\n",
    "        df_smer2 = df21[['date', 'time', 'count2']].copy()\n",
    "        \n",
    "        df_smer1.columns = ['date', 'time', 'count']\n",
    "        df_smer2.columns = ['date', 'time', 'count']\n",
    "        \n",
    "        #df_smer1.to_csv(folder+\"obdelano\\\\\"+name_smer1+\".csv\")\n",
    "        #df_smer2.to_csv(folder+\"obdelano\\\\\"+name_smer2+\".csv\")\n",
    "    \n",
    "        df_smer1['location'] = name_smer1\n",
    "        df_smer1['counter_id'] = location_id[name]\n",
    "        df_smer1['direction'] = 0\n",
    "        \n",
    "        df_smer2['location'] = name_smer2\n",
    "        df_smer2['counter_id'] = location_id[name]\n",
    "        df_smer2['direction'] = 1\n",
    "                \n",
    "        if i1 == 0:\n",
    "            df = pd.concat([df_smer1, df_smer2], ignore_index=True, sort=False)\n",
    "        else:\n",
    "            df = pd.concat([df, df_smer1, df_smer2], ignore_index=True, sort=False)\n",
    "        "
   ]
  },
  {
   "cell_type": "markdown",
   "metadata": {},
   "source": [
    "## From additional CSV files"
   ]
  },
  {
   "cell_type": "code",
   "execution_count": 8,
   "metadata": {},
   "outputs": [],
   "source": [
    "folder_additional = \"data\\\\stevci_dodatni\\\\\"\n",
    "l = listdir(folder_additional)\n",
    "\n",
    "name = l[0]\n",
    "\n",
    "file_name = folder_additional + name\n",
    "    \n",
    "f = open(file_name, encoding=\"cp1250\")\n",
    "f = f.readlines()\n",
    "label = f[2].split(\":\")[1].split(\"/\")[0].strip()\n",
    "cols = f[22].strip().split()\n",
    "\n",
    "location = label.split()[1:]\n",
    "counter_id = name.split(\"_\")[0]\n",
    "\n"
   ]
  },
  {
   "cell_type": "code",
   "execution_count": 9,
   "metadata": {},
   "outputs": [],
   "source": [
    "folder_additional = \"data\\\\stevci_dodatni\\\\\"\n",
    "l = listdir(folder_additional)\n",
    "\n",
    "for i1,name in enumerate(l):\n",
    "    file_name = folder_additional + name\n",
    "    \n",
    "    f = open(file_name, encoding=\"cp1250\")\n",
    "    f = f.readlines()\n",
    "    label = f[2].split(\":\")[1].split(\"/\")[0].strip()\n",
    "    cols = f[22].strip().split()\n",
    "\n",
    "    location = label.split()[1:]\n",
    "    counter_id = name.split(\"_\")[0]\n",
    "    \n",
    "    df2 = pd.read_csv(file_name, encoding=\"cp1250\", skiprows=24,sep='\\s{1,}', header=None, engine='python', usecols=np.arange(len(cols)))\n",
    "    df2 =df2.iloc[:,[1,2,11,20,21]]\n",
    "    df2.columns = [\"date\", \"time\", \"count1\", \"count2\", \"count\"]\n",
    "    df2 = df2.dropna()\n",
    "    \n",
    "    if \"obe_smeri\" not in name:    \n",
    "        df2 = df2[['date', 'time', 'count']]\n",
    "        df2['location'] = location\n",
    "        df2['counter_id'] = counter_id\n",
    "        df2['direction'] = 0\n",
    "        df = pd.concat([df, df2], ignore_index=True, sort=False)\n",
    "    \n",
    "    else:\n",
    "        df2 = df2[['date', 'time', 'count1', 'count2']]\n",
    "        \n",
    "        name_smer1 = name + \" SMER 0\"\n",
    "        name_smer2 = name + \" SMER 1\"\n",
    "            \n",
    "        df_smer1 = df2[['date', 'time', 'count1']].copy()\n",
    "        df_smer2 = df2[['date', 'time', 'count2']].copy()\n",
    "        \n",
    "        df_smer1.columns = ['date', 'time', 'count']\n",
    "        df_smer2.columns = ['date', 'time', 'count']\n",
    "        \n",
    "        #df_smer1.to_csv(folder+\"obdelano\\\\\"+name_smer1+\".csv\")\n",
    "        #df_smer2.to_csv(folder+\"obdelano\\\\\"+name_smer2+\".csv\")\n",
    "    \n",
    "        df_smer1['location'] = name_smer1\n",
    "        df_smer1['counter_id'] = counter_id\n",
    "        df_smer1['direction'] = 0\n",
    "        \n",
    "        df_smer2['location'] = name_smer2\n",
    "        df_smer2['counter_id'] = counter_id\n",
    "        df_smer2['direction'] = 1\n",
    "                \n",
    "        df = pd.concat([df, df_smer1, df_smer2], ignore_index=True, sort=False)\n",
    "        \n",
    "        "
   ]
  },
  {
   "cell_type": "code",
   "execution_count": 10,
   "metadata": {},
   "outputs": [],
   "source": [
    "df = df[df[\"date\"]!=\"skupaj\"].copy()"
   ]
  },
  {
   "cell_type": "code",
   "execution_count": 11,
   "metadata": {},
   "outputs": [],
   "source": [
    "df['date'] = df['date'].map(lambda x: \"20\"+x.split('.')[2]) + \"-\" + df['date'].map(lambda x: x.split('.')[1]) + \"-\" + df['date'].map(lambda x: x.split('.')[0])"
   ]
  },
  {
   "cell_type": "markdown",
   "metadata": {},
   "source": [
    "## From xlsx files"
   ]
  },
  {
   "cell_type": "code",
   "execution_count": 12,
   "metadata": {},
   "outputs": [],
   "source": [
    "l = listdir(folder)\n",
    "excel_files = []\n",
    "for f in l:\n",
    "    if splitext(f)[1] == \".xlsx\":\n",
    "        excel_files.append(f)"
   ]
  },
  {
   "cell_type": "code",
   "execution_count": 13,
   "metadata": {},
   "outputs": [
    {
     "data": {
      "text/plain": [
       "['1002-170  Tivolska Mladika smer Vič  -  (avgust 2020).xlsx',\n",
       " '1002-170  Tivolska Mladika smer Vič  -  (oktober 2019).xlsx',\n",
       " '1005-230  Barjanska Sibirija (obe smeri)  -  (avgust 2020).xlsx',\n",
       " '1005-230  Barjanska Sibirija (obe smeri)  -  (oktober 2019).xlsx',\n",
       " '1006-220  Obvozna Roje (obe smeri)  -  (avgust 2020).xlsx',\n",
       " '1006-220  Obvozna Roje (obe smeri)  -  (oktober 2019).xlsx',\n",
       " '1008-140  Drenikova žel. Podvoz smer Šiška  -  (avgust 2020).xlsx',\n",
       " '1008-140  Drenikova žel. Podvoz smer Šiška  -  (oktober 2019).xlsx',\n",
       " '1014-150  Šmartinska 104 smer BTC  -  (avgust 2020).xlsx',\n",
       " '1014-150  Šmartinska 104 smer BTC  -  (oktober 2019).xlsx',\n",
       " '1015-120  Zaloška Toplarna smer Zalog  -  (avgust 2020).xlsx',\n",
       " '1015-120  Zaloška Toplarna smer Zalog  -  (oktober 2019).xlsx',\n",
       " '1016-140  Zaloška Toplarna smer Center  -  (avgust 2020).xlsx',\n",
       " '1016-140  Zaloška Toplarna smer Center  -  (oktober 2019).xlsx',\n",
       " '1017-246  Litijska Hrušica (obe smeri)  -  (avgust 2020).xlsx',\n",
       " '1023-266  Pot za Brdom Kin. Društvo (obe smeri)  -  (avgust 2020).xlsx',\n",
       " '1023-266  Pot za Brdom Kin. Društvo (obe smeri)  -  (oktober 2019).xlsx',\n",
       " '1025-116  Slovenska Drama smer Ajdovščina  -  (avgust 2020).xlsx',\n",
       " '1025-116  Slovenska Drama smer Ajdovščina  -  (oktober 2019).xlsx',\n",
       " '1026-136  Slovenska Drama smer Trnovo  -  (avgust 2020).xlsx',\n",
       " '1026-136  Slovenska Drama smer Trnovo  -  (oktober 2019).xlsx',\n",
       " '1028-180  Celovška Žel. Podvoz smer Šiška  -  (avgust 2020).xlsx',\n",
       " '1028-180  Celovška Žel. Podvoz smer Šiška  -  (oktober 2019).xlsx',\n",
       " '1035-136  Dunajska Gospodarsko r. smer center  -  (avgust 2020).xlsx',\n",
       " '1035-136  Dunajska Gospodarsko r. smer center  -  (oktober 2019).xlsx',\n",
       " '1036-110  Dunajska Gospodarsko r. smer Bežigrad  -  (avgust 2020).xlsx',\n",
       " '1036-110  Dunajska Gospodarsko r. smer Bežigrad  -  (oktober 2019).xlsx',\n",
       " '1038-276  Hradeckega (obe smeri)  -  (avgust 2020).xlsx',\n",
       " '1038-276  Hradeckega (obe smeri)  -  (oktober 2019).xlsx',\n",
       " '1044-240  Letališka Špar skladišče (obe smeri)  -  (oktober 2019).xlsx',\n",
       " '1044-240  Letališka Špar skladišče smer AC  -  (avgust 2020).xlsx',\n",
       " '1044-240  Letališka Špar skladišče smer BTC  -  (avgust 2020).xlsx',\n",
       " '1046-134  Kajuhova žel. Podvoz smer Moste  -  (avgust 2020).xlsx',\n",
       " '1046-134  Kajuhova žel. Podvoz smer Moste  -  (oktober 2019).xlsx',\n",
       " '1047-114  Kajuhova žel. Podvoz smer Žale  -  (avgust 2020).xlsx',\n",
       " '1047-114  Kajuhova žel. Podvoz smer Žale  -  (oktober 2019).xlsx',\n",
       " '1050-230  Verovškova Plinarna (obe smeri)  -  (avgust 2020).xlsx',\n",
       " '1050-230  Verovškova Plinarna (obe smeri)  -  (oktober 2019).xlsx',\n",
       " '1051-230  Slovenčeva Mercator Diskont (obe smeri)  -  (avgust 2020).xlsx',\n",
       " '1051-230  Slovenčeva Mercator Diskont (obe smeri)  -  (oktober 2019).xlsx',\n",
       " '1052-210  Vojkova Nove Stožice (obe smeri)  -  (avgust 2020).xlsx',\n",
       " '1052-210  Vojkova Nove Stožice (obe smeri)  -  (oktober 2019).xlsx',\n",
       " '1055-166  Gosposvetska Cerkev smer Ajdovščina  -  (avgust 2020).xlsx',\n",
       " '1055-166  Gosposvetska Cerkev smer Ajdovščina  -  (oktober 2019).xlsx',\n",
       " '1056-186  Gosposvetska Cerkev smer Delavski dom  -  (avgust 2020).xlsx',\n",
       " '1056-186  Gosposvetska Cerkev smer Delavski dom  -  (oktober 2019).xlsx',\n",
       " '1062-210  Predor pod Gradom (obe smeri)  -  (avgust 2020).xlsx',\n",
       " '1062-210  Predor pod Gradom (obe smeri)  -  (oktober 2019).xlsx',\n",
       " '1935-230  Dunajska žel. Podvoz smer Center  -  (avgust 2020).xlsx',\n",
       " '1935-230  Dunajska žel. Podvoz smer Center  -  (oktober 2019).xlsx',\n",
       " '1946-230  Kajuhova žel. Podvoz smer Moste  -  (avgust 2020).xlsx',\n",
       " '1946-230  Kajuhova žel. Podvoz smer Moste  -  (oktober 2019).xlsx',\n",
       " 'Kajuhova žel. Podvoz smer BTC  -  (avgust 2020).xlsx',\n",
       " 'Kajuhova žel. Podvoz smer BTC  -  (oktober 2019).xlsx']"
      ]
     },
     "execution_count": 13,
     "metadata": {},
     "output_type": "execute_result"
    }
   ],
   "source": [
    "excel_files"
   ]
  },
  {
   "cell_type": "code",
   "execution_count": 14,
   "metadata": {},
   "outputs": [],
   "source": [
    "for name in excel_files:\n",
    "    xls_file = pd.ExcelFile(folder+name)\n",
    "    df2 = xls_file.parse(xls_file.sheet_names[1], header=None, skiprows=12)\n",
    "    df2.columns = columns[1:]\n",
    "    df2 = df2.dropna()\n",
    "    \n",
    "    counter_id = name.split()[0]\n",
    "    if counter_id in id_location:\n",
    "        location = id_location[counter_id]\n",
    "    else:\n",
    "        location = \" \".join(name.split()[1:]).split(\"-\")[0].strip()\n",
    "        \n",
    "    \n",
    "    if \"obe smeri\" not in name: \n",
    "        df2 = df2[['date', 'time', 'count']]       \n",
    "        df2['location'] = location\n",
    "        df2['counter_id'] = counter_id\n",
    "        df2['direction'] = 0\n",
    "        \n",
    "        df2['date'] = df2['date'].map(lambda x: x.split(\".\")[2]+\"-\"+x.split(\".\")[1]+\"-\"+x.split(\".\")[0])\n",
    "        \n",
    "        df = pd.concat([df, df2], ignore_index=True, sort=False)\n",
    "    else:\n",
    "        df2 = df2[['date', 'time', 'count1', 'count2']]\n",
    "        \n",
    "        df_smer1 = df2[['date', 'time', 'count1']].copy()\n",
    "        df_smer2 = df2[['date', 'time', 'count2']].copy()\n",
    "        \n",
    "               \n",
    "        df_smer1.columns = ['date', 'time', 'count']\n",
    "        df_smer2.columns = ['date', 'time', 'count']\n",
    "        \n",
    "        if counter_id in id_location:\n",
    "            name_smer1 = location.replace(\"<obe smeri>\",\"SMER 0\")\n",
    "            name_smer2 = location.replace(\"<obe smeri>\",\"SMER 1\")\n",
    "        else:\n",
    "            name_smer1 = location.replace(\"(obe smeri)\",\"SMER 0\")\n",
    "            name_smer2 = location.replace(\"(obe smeri)\",\"SMER 1\")\n",
    "        \n",
    "        \n",
    "        df_smer1['location'] = name_smer1\n",
    "        df_smer1['counter_id'] = counter_id\n",
    "        df_smer1['direction'] = 0\n",
    "        \n",
    "        df_smer2['location'] = name_smer2\n",
    "        df_smer2['counter_id'] = counter_id\n",
    "        df_smer2['direction'] = 1\n",
    "        \n",
    "        df_smer1['date'] = df_smer1['date'].map(lambda x: x.split(\".\")[2]+\"-\"+x.split(\".\")[1]+\"-\"+x.split(\".\")[0])\n",
    "        df_smer2['date'] = df_smer2['date'].map(lambda x: x.split(\".\")[2]+\"-\"+x.split(\".\")[1]+\"-\"+x.split(\".\")[0])\n",
    "        \n",
    "        df = pd.concat([df,df_smer1, df_smer2], ignore_index=True, sort=False)\n",
    "  "
   ]
  },
  {
   "cell_type": "markdown",
   "metadata": {},
   "source": [
    "## Additional filter - using `counter_ids.txt`"
   ]
  },
  {
   "cell_type": "code",
   "execution_count": 15,
   "metadata": {},
   "outputs": [
    {
     "name": "stdout",
     "output_type": "stream",
     "text": [
      "['1001-156', '1014-150', '1014-176', '1016-140', '1016-14a', '1021-156', '1025-116', '1034-216', '1035-136', '1038-276', '1946-230', '1946-23a', '1947-211', '1935-230', '1935-238', '1936-211', '0174', '0855', '1010']\n"
     ]
    }
   ],
   "source": [
    "s=[]\n",
    "f = open(\"data\\\\stevci\\\\counter_ids.txt\", encoding=\"utf8\")\n",
    "for x in f:\n",
    "    x=x.strip()\n",
    "    s.extend(x.split(\";\"))\n",
    "f.close()\n",
    "print(s)\n",
    "df = df[df[\"counter_id\"].isin(s)]"
   ]
  },
  {
   "cell_type": "code",
   "execution_count": 16,
   "metadata": {},
   "outputs": [
    {
     "data": {
      "text/plain": [
       "array(['1001-156', '1014-176', '1016-14a', '1021-156', '1025-116',\n",
       "       '1034-216', '1038-276', '1936-211', '1946-23a', '1947-211',\n",
       "       '1935-238', '0174', '0855', '1010', '1014-150', '1016-140',\n",
       "       '1035-136', '1935-230', '1946-230'], dtype=object)"
      ]
     },
     "execution_count": 16,
     "metadata": {},
     "output_type": "execute_result"
    }
   ],
   "source": [
    "df[\"counter_id\"].unique()"
   ]
  },
  {
   "cell_type": "markdown",
   "metadata": {},
   "source": [
    "## Label directions"
   ]
  },
  {
   "cell_type": "code",
   "execution_count": 17,
   "metadata": {},
   "outputs": [],
   "source": [
    "df[\"counter_id_direction\"] = df[\"counter_id\"]\n",
    "df.loc[df[\"direction\"]==1, \"counter_id_direction\"] = df[\"counter_id\"]+\"-1\""
   ]
  },
  {
   "cell_type": "markdown",
   "metadata": {},
   "source": [
    "## Dates"
   ]
  },
  {
   "cell_type": "code",
   "execution_count": 18,
   "metadata": {},
   "outputs": [],
   "source": [
    "df['date'] = pd.to_datetime(df['date'])"
   ]
  },
  {
   "cell_type": "markdown",
   "metadata": {},
   "source": [
    "## Times"
   ]
  },
  {
   "cell_type": "code",
   "execution_count": 19,
   "metadata": {},
   "outputs": [],
   "source": [
    "df[\"time\"] = df[\"time\"].map(lambda x:int(x.split(\":\")[0]))"
   ]
  },
  {
   "cell_type": "markdown",
   "metadata": {},
   "source": [
    "# From highway (ring) counters"
   ]
  },
  {
   "cell_type": "code",
   "execution_count": 20,
   "metadata": {},
   "outputs": [
    {
     "data": {
      "text/plain": [
       "'\\ndf2 = pd.read_csv(folder_ring+\"ring_counters.csv\")\\ndf_description = df2[[\"title\", \"id\", \"stevci_lokacijaOpis\"]]\\ndf_description = df_description.drop_duplicates()\\ndf_description.to_excel(folder_ring+\"ring_counters_description.xlsx\", index=False)\\ndf_description.to_csv(folder_ring+\"ring_counters_description.csv\", index=False)\\ndf2 = df2[[\"title\", \"stevci_datum\", \"stevci_ura\", \"stevci_stev\"]]\\ndf2.columns = [\\'counter_id\\', \\'date\\', \\'time\\', \\'count\\']\\n'"
      ]
     },
     "execution_count": 20,
     "metadata": {},
     "output_type": "execute_result"
    }
   ],
   "source": [
    "\"\"\"\n",
    "df2 = pd.read_csv(folder_ring+\"ring_counters.csv\")\n",
    "df_description = df2[[\"title\", \"id\", \"stevci_lokacijaOpis\"]]\n",
    "df_description = df_description.drop_duplicates()\n",
    "df_description.to_excel(folder_ring+\"ring_counters_description.xlsx\", index=False)\n",
    "df_description.to_csv(folder_ring+\"ring_counters_description.csv\", index=False)\n",
    "df2 = df2[[\"title\", \"stevci_datum\", \"stevci_ura\", \"stevci_stev\"]]\n",
    "df2.columns = ['counter_id', 'date', 'time', 'count']\n",
    "\"\"\""
   ]
  },
  {
   "cell_type": "markdown",
   "metadata": {},
   "source": [
    "### Merge all lanes in the same direction and sum the counts within an hour"
   ]
  },
  {
   "cell_type": "code",
   "execution_count": 21,
   "metadata": {},
   "outputs": [
    {
     "data": {
      "text/plain": [
       "'\\ndf2[\\'counter_id\\'] = df2[\\'counter_id\\'].map(lambda x: x.replace(\\' (v)\\',\\'\\').replace(\\' (p)\\',\\'\\').replace(\\' (po)\\',\\'\\'))\\ndf2 = df2.groupby([\"counter_id\", \"date\", \"time\"], as_index=False).sum()\\n\\ndf2[\"counter_id_direction\"] = df2[\"counter_id\"]\\ndf2[\"location\"] = df2[\"counter_id\"]\\ndf2[\"direction\"] = 0\\n\\ndf2[\\'date\\'] = df2[\\'date\\'].map(lambda x: x.split(\"/\")[2]+\"-\"+x.split(\"/\")[1]+\"-\"+x.split(\"/\")[0])\\ndf2[\\'date\\'] = pd.to_datetime(df2[\\'date\\'])\\n\\ndf2 = df2[[\\'date\\', \\'time\\', \\'count\\', \\'location\\', \\'counter_id\\', \\'direction\\' ,\\'counter_id_direction\\']]\\n'"
      ]
     },
     "execution_count": 21,
     "metadata": {},
     "output_type": "execute_result"
    }
   ],
   "source": [
    "\"\"\"\n",
    "df2['counter_id'] = df2['counter_id'].map(lambda x: x.replace(' (v)','').replace(' (p)','').replace(' (po)',''))\n",
    "df2 = df2.groupby([\"counter_id\", \"date\", \"time\"], as_index=False).sum()\n",
    "\n",
    "df2[\"counter_id_direction\"] = df2[\"counter_id\"]\n",
    "df2[\"location\"] = df2[\"counter_id\"]\n",
    "df2[\"direction\"] = 0\n",
    "\n",
    "df2['date'] = df2['date'].map(lambda x: x.split(\"/\")[2]+\"-\"+x.split(\"/\")[1]+\"-\"+x.split(\"/\")[0])\n",
    "df2['date'] = pd.to_datetime(df2['date'])\n",
    "\n",
    "df2 = df2[['date', 'time', 'count', 'location', 'counter_id', 'direction' ,'counter_id_direction']]\n",
    "\"\"\""
   ]
  },
  {
   "cell_type": "markdown",
   "metadata": {},
   "source": [
    "Rounding"
   ]
  },
  {
   "cell_type": "code",
   "execution_count": 1,
   "metadata": {},
   "outputs": [],
   "source": [
    "#df2['time'] = df2['time'].map(lambda t: round(float(t.split(\":\")[0]) + float(t.split(\":\")[0])/60))"
   ]
  },
  {
   "cell_type": "markdown",
   "metadata": {},
   "source": [
    "Duplicate removal"
   ]
  },
  {
   "cell_type": "code",
   "execution_count": 23,
   "metadata": {},
   "outputs": [],
   "source": [
    "#df2 = df2.groupby(['date', 'time', 'location', 'counter_id', 'direction' ,'counter_id_direction'], as_index=False).max()"
   ]
  },
  {
   "cell_type": "markdown",
   "metadata": {},
   "source": [
    "### Filter"
   ]
  },
  {
   "cell_type": "code",
   "execution_count": 24,
   "metadata": {},
   "outputs": [],
   "source": [
    "#df2 = df2[df2[\"counter_id\"]==\"HC-H3, LJ (S obvoznica) : LJ (Celovška - Dunajska)\"]"
   ]
  },
  {
   "cell_type": "markdown",
   "metadata": {},
   "source": [
    "### Concat with other counters"
   ]
  },
  {
   "cell_type": "code",
   "execution_count": 25,
   "metadata": {},
   "outputs": [],
   "source": [
    "df = pd.concat([df,df2], ignore_index=True, sort=False)\n"
   ]
  },
  {
   "cell_type": "markdown",
   "metadata": {},
   "source": [
    "# Export the counter locations"
   ]
  },
  {
   "cell_type": "code",
   "execution_count": 26,
   "metadata": {},
   "outputs": [],
   "source": [
    "f = open(\"data\\\\counter_locations.txt\", 'w', encoding=\"utf8\")\n",
    "l = list(set(zip(df[\"location\"], df[\"counter_id\"])))\n",
    "l.sort()\n",
    "for counter_loc_id in l:\n",
    "    print(counter_loc_id, file=f)\n",
    "f.close()\n",
    "\n",
    "#pd.DataFrame({'location':df.location.unique()}).to_excel(\"data\\\\counter_locations.xlsx\", index=False)"
   ]
  },
  {
   "cell_type": "markdown",
   "metadata": {},
   "source": [
    "# Reduce the columns"
   ]
  },
  {
   "cell_type": "code",
   "execution_count": 27,
   "metadata": {},
   "outputs": [],
   "source": [
    "df = df[['date', 'time', 'counter_id_direction', 'count']]\n",
    "df.columns = ['date', 'time', 'counter_id', 'count']"
   ]
  },
  {
   "cell_type": "code",
   "execution_count": 28,
   "metadata": {},
   "outputs": [],
   "source": [
    "#df['date'] = df['date'].map(lambda x: \"20\"+x.split('.')[2]) + \"-\" + df['date'].map(lambda x: x.split('.')[1]) + \"-\" + df['date'].map(lambda x: x.split('.')[0] if len(x) < 10 else x)\n"
   ]
  },
  {
   "cell_type": "markdown",
   "metadata": {},
   "source": [
    "# Unify the ids of the counters with different ids"
   ]
  },
  {
   "cell_type": "code",
   "execution_count": 29,
   "metadata": {},
   "outputs": [],
   "source": [
    "# read the synonyms\n",
    "d = {}\n",
    "\n",
    "f = open(\"data\\\\counter_synonyms.txt\", encoding=\"utf8\")\n",
    "for l in f:\n",
    "    l = l.strip().split(\";\")\n",
    "    primary = l[0]\n",
    "    syns = l[1:]\n",
    "    d[primary] = syns"
   ]
  },
  {
   "cell_type": "code",
   "execution_count": 30,
   "metadata": {},
   "outputs": [],
   "source": [
    "for primary, syns in d.items():\n",
    "    for syn in syns:\n",
    "        df.loc[df['counter_id']  == syn, 'counter_id'] = primary\n",
    "        df.loc[df['counter_id']  == syn+'-1', 'counter_id'] = primary+'-1'   "
   ]
  },
  {
   "cell_type": "markdown",
   "metadata": {},
   "source": [
    "# Remove potential duplicates"
   ]
  },
  {
   "cell_type": "code",
   "execution_count": 33,
   "metadata": {},
   "outputs": [],
   "source": [
    "df = df.groupby(['counter_id', 'date', 'time'], as_index=False).max()\n",
    "# zakaj tole meč ven 1016-140;1946-230; 1035-136"
   ]
  },
  {
   "cell_type": "markdown",
   "metadata": {},
   "source": [
    "# Remove outliers"
   ]
  },
  {
   "cell_type": "code",
   "execution_count": 35,
   "metadata": {},
   "outputs": [
    {
     "data": {
      "text/plain": [
       "array(['0174', '0174-1', '0855', '0855-1', '1001-156', '1010', '1010-1',\n",
       "       '1014-150', '1016-140', '1021-156', '1025-116', '1034-216',\n",
       "       '1034-216-1', '1035-136', '1038-276', '1038-276-1', '1935-230',\n",
       "       '1935-230-1', '1946-230', '1947-211'], dtype=object)"
      ]
     },
     "execution_count": 35,
     "metadata": {},
     "output_type": "execute_result"
    }
   ],
   "source": [
    "cs = df.counter_id.unique()\n",
    "cs"
   ]
  },
  {
   "cell_type": "code",
   "execution_count": 44,
   "metadata": {},
   "outputs": [],
   "source": [
    "df_filtered = pd.DataFrame(columns = df.columns)\n",
    "\n",
    "\n",
    "for c in cs:\n",
    "    df2 = df[df.counter_id == c]\n",
    "    \n",
    "    \n",
    "    m, s = np.mean(df2['count']), np.std(df2['count'])\n",
    "    idxs = np.logical_not(np.logical_or(df2['count'] > m + 3 * s, df2['count'] < m - 3 * s))\n",
    "    df2 = df2[idxs]\n",
    "    df_filtered = pd.concat([df_filtered,df2], ignore_index=True, sort=False)"
   ]
  },
  {
   "cell_type": "code",
   "execution_count": 47,
   "metadata": {},
   "outputs": [],
   "source": [
    "df = df_filtered"
   ]
  },
  {
   "cell_type": "markdown",
   "metadata": {},
   "source": [
    "# Dates"
   ]
  },
  {
   "cell_type": "code",
   "execution_count": 48,
   "metadata": {},
   "outputs": [
    {
     "data": {
      "text/plain": [
       "count    44552.000000\n",
       "mean         0.708722\n",
       "std          0.454356\n",
       "min          0.000000\n",
       "25%          0.000000\n",
       "50%          1.000000\n",
       "75%          1.000000\n",
       "max          1.000000\n",
       "Name: workday, dtype: float64"
      ]
     },
     "execution_count": 48,
     "metadata": {},
     "output_type": "execute_result"
    }
   ],
   "source": [
    "df['weekday'] = df['date'].dt.weekday\n",
    "df['workday'] = df['weekday'].map(lambda x: 1 if x < 5 else 0)\n",
    "df = df.drop(columns = \"weekday\")\n",
    "df['workday'].describe()"
   ]
  },
  {
   "cell_type": "markdown",
   "metadata": {},
   "source": [
    "# Weather data"
   ]
  },
  {
   "cell_type": "code",
   "execution_count": 49,
   "metadata": {},
   "outputs": [
    {
     "data": {
      "text/plain": [
       "0   2020-10-01\n",
       "1   2020-10-01\n",
       "2   2020-10-01\n",
       "3   2020-10-01\n",
       "4   2020-10-01\n",
       "Name: date, dtype: datetime64[ns]"
      ]
     },
     "execution_count": 49,
     "metadata": {},
     "output_type": "execute_result"
    }
   ],
   "source": [
    "df.date.head()"
   ]
  },
  {
   "cell_type": "code",
   "execution_count": 50,
   "metadata": {},
   "outputs": [],
   "source": [
    "#pd.to_datetime(df_weather['date']).dt.date"
   ]
  },
  {
   "cell_type": "code",
   "execution_count": 51,
   "metadata": {},
   "outputs": [
    {
     "data": {
      "text/html": [
       "<div>\n",
       "<style scoped>\n",
       "    .dataframe tbody tr th:only-of-type {\n",
       "        vertical-align: middle;\n",
       "    }\n",
       "\n",
       "    .dataframe tbody tr th {\n",
       "        vertical-align: top;\n",
       "    }\n",
       "\n",
       "    .dataframe thead th {\n",
       "        text-align: right;\n",
       "    }\n",
       "</style>\n",
       "<table border=\"1\" class=\"dataframe\">\n",
       "  <thead>\n",
       "    <tr style=\"text-align: right;\">\n",
       "      <th></th>\n",
       "      <th>counter_id</th>\n",
       "      <th>date</th>\n",
       "      <th>time</th>\n",
       "      <th>count</th>\n",
       "      <th>workday</th>\n",
       "    </tr>\n",
       "  </thead>\n",
       "  <tbody>\n",
       "    <tr>\n",
       "      <th>0</th>\n",
       "      <td>0174</td>\n",
       "      <td>2020-10-01</td>\n",
       "      <td>0</td>\n",
       "      <td>0.0</td>\n",
       "      <td>1</td>\n",
       "    </tr>\n",
       "    <tr>\n",
       "      <th>1</th>\n",
       "      <td>0174</td>\n",
       "      <td>2020-10-01</td>\n",
       "      <td>1</td>\n",
       "      <td>0.0</td>\n",
       "      <td>1</td>\n",
       "    </tr>\n",
       "    <tr>\n",
       "      <th>2</th>\n",
       "      <td>0174</td>\n",
       "      <td>2020-10-01</td>\n",
       "      <td>2</td>\n",
       "      <td>0.0</td>\n",
       "      <td>1</td>\n",
       "    </tr>\n",
       "    <tr>\n",
       "      <th>3</th>\n",
       "      <td>0174</td>\n",
       "      <td>2020-10-01</td>\n",
       "      <td>3</td>\n",
       "      <td>0.0</td>\n",
       "      <td>1</td>\n",
       "    </tr>\n",
       "    <tr>\n",
       "      <th>4</th>\n",
       "      <td>0174</td>\n",
       "      <td>2020-10-01</td>\n",
       "      <td>4</td>\n",
       "      <td>0.0</td>\n",
       "      <td>1</td>\n",
       "    </tr>\n",
       "  </tbody>\n",
       "</table>\n",
       "</div>"
      ],
      "text/plain": [
       "  counter_id       date time  count  workday\n",
       "0       0174 2020-10-01    0    0.0        1\n",
       "1       0174 2020-10-01    1    0.0        1\n",
       "2       0174 2020-10-01    2    0.0        1\n",
       "3       0174 2020-10-01    3    0.0        1\n",
       "4       0174 2020-10-01    4    0.0        1"
      ]
     },
     "execution_count": 51,
     "metadata": {},
     "output_type": "execute_result"
    }
   ],
   "source": [
    "df.head()"
   ]
  },
  {
   "cell_type": "code",
   "execution_count": 52,
   "metadata": {},
   "outputs": [],
   "source": [
    "if not use_external_weather:\n",
    "    df_weather = pd.read_csv(\"data\\\\google_data_filtered.csv\", encoding=\"utf8\")\n",
    "    df_weather = df_weather[[\"date\", \"weather\"]]\n",
    "    df_weather = df_weather.drop_duplicates()\n",
    "    df_weather[\"date\"] = pd.to_datetime(df_weather['date'])\n",
    "    df = pd.merge(df, df_weather.drop_duplicates(), on=\"date\", how=\"left\")\n",
    "else:\n",
    "    df_weather = pd.read_csv('data\\\\weather.csv')\n",
    "    df_weather['date'] = pd.to_datetime(df_weather['date'])\n",
    "    for date in df['date'].unique():\n",
    "        try:\n",
    "            weather = df_weather.loc[df_weather['date'] == date, 'weather'].iloc[0]\n",
    "        except:\n",
    "            weather = np.nan\n",
    "        locs = date == df['date']\n",
    "        df.loc[locs, \"weather\"] = weather"
   ]
  },
  {
   "cell_type": "markdown",
   "metadata": {},
   "source": [
    "# Export"
   ]
  },
  {
   "cell_type": "code",
   "execution_count": 53,
   "metadata": {},
   "outputs": [],
   "source": [
    "df.to_csv(\"data\\\\counters.csv\", encoding=\"utf8\", index=False)"
   ]
  },
  {
   "cell_type": "code",
   "execution_count": 54,
   "metadata": {},
   "outputs": [
    {
     "data": {
      "text/plain": [
       "array(['0174', '0174-1', '0855', '0855-1', '1001-156', '1010', '1010-1',\n",
       "       '1014-150', '1016-140', '1021-156', '1025-116', '1034-216',\n",
       "       '1034-216-1', '1035-136', '1038-276', '1038-276-1', '1935-230',\n",
       "       '1935-230-1', '1946-230', '1947-211'], dtype=object)"
      ]
     },
     "execution_count": 54,
     "metadata": {},
     "output_type": "execute_result"
    }
   ],
   "source": [
    "df.counter_id.unique()"
   ]
  },
  {
   "cell_type": "code",
   "execution_count": null,
   "metadata": {},
   "outputs": [],
   "source": []
  },
  {
   "cell_type": "code",
   "execution_count": 55,
   "metadata": {},
   "outputs": [
    {
     "data": {
      "text/plain": [
       "array([], dtype='datetime64[ns]')"
      ]
     },
     "execution_count": 55,
     "metadata": {},
     "output_type": "execute_result"
    }
   ],
   "source": [
    "df[df['weather'].isna()].date.unique()"
   ]
  },
  {
   "cell_type": "code",
   "execution_count": null,
   "metadata": {},
   "outputs": [],
   "source": []
  }
 ],
 "metadata": {
  "kernelspec": {
   "display_name": "Python 3.7.3 64-bit ('base': conda)",
   "language": "python",
   "name": "python37364bitbasecondacd385dda59854559b44e3f82ede14f15"
  },
  "language_info": {
   "codemirror_mode": {
    "name": "ipython",
    "version": 3
   },
   "file_extension": ".py",
   "mimetype": "text/x-python",
   "name": "python",
   "nbconvert_exporter": "python",
   "pygments_lexer": "ipython3",
   "version": "3.7.3"
  }
 },
 "nbformat": 4,
 "nbformat_minor": 2
}
