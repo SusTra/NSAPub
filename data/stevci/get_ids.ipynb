{
 "cells": [
  {
   "cell_type": "code",
   "execution_count": 3,
   "metadata": {},
   "outputs": [],
   "source": [
    "import pandas as pd\n",
    "import numpy as np\n",
    "import os"
   ]
  },
  {
   "cell_type": "code",
   "execution_count": 12,
   "metadata": {},
   "outputs": [],
   "source": [
    "l = [x for x in os.listdir() if x.startswith('STEP') and x.endswith('U')]"
   ]
  },
  {
   "cell_type": "code",
   "execution_count": 88,
   "metadata": {},
   "outputs": [],
   "source": [
    "def get_ids():\n",
    "    s = {}\n",
    "\n",
    "    for file_name in l:\n",
    "        file_id = file_name.split(\"_\")[2]\n",
    "        f = open(file_name, encoding=\"cp1250\")\n",
    "\n",
    "        #print(file_id)\n",
    "        name = f.readlines()[2].split(\"STM\")[1].split(\": \")[1].split(\"  /  \")[0]\n",
    "        name = \" \".join(name.split(\" \")[1:])\n",
    "        s[name] = file_id\n",
    "        f.close()  \n",
    "    return s"
   ]
  },
  {
   "cell_type": "code",
   "execution_count": 61,
   "metadata": {},
   "outputs": [],
   "source": [
    "f = open(\"counter_ids.csv\", \"w\", encoding=\"utf8\")\n",
    "f.write(\"route name,file id\\n\")\n",
    "for name, file_id in s.items():\n",
    "    f.write(name+','+file_id+'\\n')\n",
    "f.close()\n",
    "    \n"
   ]
  },
  {
   "cell_type": "code",
   "execution_count": 78,
   "metadata": {},
   "outputs": [],
   "source": [
    "my_name = \"Tržaška Gruda > Dolgi Most\""
   ]
  },
  {
   "cell_type": "code",
   "execution_count": 85,
   "metadata": {},
   "outputs": [],
   "source": [
    "def get_file_names(my_name, s, folder=\"\"):\n",
    "    names = set()\n",
    "    \n",
    "    my_id = s[my_name]\n",
    "    if folder:\n",
    "        l = [x for x in os.listdir(folder) if x.startswith('STEP') and x.endswith('U')]\n",
    "    else:\n",
    "        l = [x for x in os.listdir() if x.startswith('STEP') and x.endswith('U')]\n",
    "    \n",
    "    for file_name in l:\n",
    "        if file_name.startswith(\"STEP_MOL_\"+my_id) and file_name.endswith(\"U\"):\n",
    "            names.add(file_name)\n",
    "    \n",
    "    return names\n",
    "        "
   ]
  },
  {
   "cell_type": "code",
   "execution_count": 87,
   "metadata": {},
   "outputs": [
    {
     "data": {
      "text/plain": [
       "{'STEP_MOL_1022-176_2020_10_01__00_00-2020_10_31__23_50.S_U',\n",
       " 'STEP_MOL_1022-176_2020_11_01__00_00-2020_11_30__23_50.S_U'}"
      ]
     },
     "execution_count": 87,
     "metadata": {},
     "output_type": "execute_result"
    }
   ],
   "source": [
    "get_file_names(my_name, s)"
   ]
  }
 ],
 "metadata": {
  "kernelspec": {
   "display_name": "Python 3.7.3 64-bit ('base': conda)",
   "language": "python",
   "name": "python37364bitbasecondacd385dda59854559b44e3f82ede14f15"
  },
  "language_info": {
   "codemirror_mode": {
    "name": "ipython",
    "version": 3
   },
   "file_extension": ".py",
   "mimetype": "text/x-python",
   "name": "python",
   "nbconvert_exporter": "python",
   "pygments_lexer": "ipython3",
   "version": "3.7.3"
  }
 },
 "nbformat": 4,
 "nbformat_minor": 2
}
